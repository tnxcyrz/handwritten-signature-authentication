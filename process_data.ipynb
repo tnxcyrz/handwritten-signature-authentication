{
 "cells": [
  {
   "cell_type": "code",
   "execution_count": 1,
   "metadata": {},
   "outputs": [],
   "source": [
    "import os\n",
    "import random\n",
    "\n",
    "def split_train_validation(x, percentage=0.6):\n",
    "  train_size = int(len(x) * percentage)\n",
    "\n",
    "  train = random.sample(x, train_size)\n",
    "  validation = [v for v in x if v not in train]\n",
    "\n",
    "  return (train, validation)\n",
    "\n",
    "def get_set_triplets(legit_names, forged_names):\n",
    "  set_triplets = [(legit_name, forged_name, '0') for legit_name in legit_names for forged_name in forged_names]\n",
    "\n",
    "  for name in legit_names:\n",
    "    for distinct_name in legit_names:\n",
    "      if name != distinct_name:\n",
    "        set_triplets.append((name, distinct_name, '1'))\n",
    "\n",
    "  return set_triplets\n",
    "\n",
    "random.seed(42)\n",
    "\n",
    "raw_train_dir_legit = 'data_set/train/genuine/'\n",
    "raw_train_dir_forgeries = 'data_set/train/forgeries/'\n",
    "\n",
    "legit_names = [file_name for file_name in os.listdir(raw_train_dir_legit)]\n",
    "forged_names = [file_name for file_name in os.listdir(raw_train_dir_forgeries)]\n",
    "\n",
    "signature_ids = list(set([file_name[:3] for file_name in legit_names]))\n",
    "\n",
    "train_lines = []\n",
    "validation_lines = []\n",
    "\n",
    "for signature_id in signature_ids:\n",
    "  id_legit_names = [raw_train_dir_legit + name for name in legit_names if name[:3] == signature_id]\n",
    "  id_forged_names = [raw_train_dir_forgeries + name for name in forged_names if name[4:7] == signature_id]\n",
    "\n",
    "  train_legit_names, validation_legit_names = split_train_validation(id_legit_names)\n",
    "  train_forged_names, validation_forged_names = split_train_validation(id_forged_names)\n",
    "\n",
    "  train_triplets = get_set_triplets(train_legit_names, train_forged_names)\n",
    "  validation_triplets = get_set_triplets(validation_legit_names, validation_forged_names)\n",
    "\n",
    "  train_lines.extend([','.join(triplet) for triplet in train_triplets])\n",
    "  validation_lines.extend([','.join(triplet) for triplet in validation_triplets])"
   ]
  },
  {
   "cell_type": "code",
   "execution_count": 2,
   "metadata": {},
   "outputs": [],
   "source": [
    "def write_csv_file(file_name, lines):\n",
    "  with open(file_name, 'w') as file:\n",
    "    header_line = 'image_1,image_2,legit_pair'\n",
    "    file_lines = '\\n'.join([header_line] + lines)\n",
    "\n",
    "    file.writelines(file_lines)\n",
    "\n",
    "train_csv_file_name = 'data_set/train.csv'\n",
    "validation_csv_file_name = 'data_set/validation.csv'\n",
    "\n",
    "write_csv_file(train_csv_file_name, train_lines)\n",
    "write_csv_file(validation_csv_file_name, validation_lines)"
   ]
  },
  {
   "cell_type": "code",
   "execution_count": 3,
   "metadata": {},
   "outputs": [],
   "source": [
    "def get_test_set_quartets(reference_names, questioned_names):\n",
    "  test_quartets = []\n",
    "\n",
    "  for ref_name in reference_names:\n",
    "    for distinct_ref_name in reference_names:\n",
    "      if ref_name != distinct_ref_name:\n",
    "        legit_pair = '1'\n",
    "        questioned = '0'\n",
    "\n",
    "        test_quartets.append((ref_name, distinct_ref_name, legit_pair, questioned))\n",
    "\n",
    "    for quest_name in questioned_names:\n",
    "      legit_pair = '1' if len(ref_name) == len(quest_name) else '0'\n",
    "      questioned = '1'\n",
    "\n",
    "      test_quartets.append((ref_name, quest_name, legit_pair, questioned))\n",
    "\n",
    "  return test_quartets\n",
    "\n",
    "raw_test_dir_reference = 'data_set/test/reference/'\n",
    "raw_test_dir_questioned = 'data_set/test/questioned/'\n",
    "\n",
    "test_lines = []\n",
    "\n",
    "for signature_id in os.listdir(raw_test_dir_reference):\n",
    "  reference_dir = raw_test_dir_reference + signature_id\n",
    "  questioned_dir = raw_test_dir_questioned + signature_id\n",
    "\n",
    "  reference_names = [name for name in os.listdir(reference_dir)]\n",
    "  questioned_names = [name for name in os.listdir(questioned_dir)]\n",
    "\n",
    "  test_quartets = get_test_set_quartets(reference_names, questioned_names)\n",
    "  test_lines.extend([','.join(quartet) for quartet in test_quartets])"
   ]
  },
  {
   "cell_type": "code",
   "execution_count": 4,
   "metadata": {},
   "outputs": [],
   "source": [
    "def write_test_csv_file(file_name, lines):\n",
    "  with open(file_name, 'w') as file:\n",
    "    header_line = 'image_1,image_2,legit_pair,questioned'\n",
    "    file_lines = '\\n'.join([header_line] + lines)\n",
    "\n",
    "    file.writelines(file_lines)\n",
    "\n",
    "test_csv_file_name = 'data_set/test.csv'\n",
    "write_test_csv_file(test_csv_file_name, test_lines)"
   ]
  },
  {
   "cell_type": "code",
   "execution_count": null,
   "metadata": {},
   "outputs": [],
   "source": []
  }
 ],
 "metadata": {
  "kernelspec": {
   "display_name": "Python 3.8.10 64-bit",
   "language": "python",
   "name": "python3"
  },
  "language_info": {
   "codemirror_mode": {
    "name": "ipython",
    "version": 3
   },
   "file_extension": ".py",
   "mimetype": "text/x-python",
   "name": "python",
   "nbconvert_exporter": "python",
   "pygments_lexer": "ipython3",
   "version": "3.8.10"
  },
  "orig_nbformat": 4,
  "vscode": {
   "interpreter": {
    "hash": "31f2aee4e71d21fbe5cf8b01ff0e069b9275f58929596ceb00d14d90e3e16cd6"
   }
  }
 },
 "nbformat": 4,
 "nbformat_minor": 2
}
